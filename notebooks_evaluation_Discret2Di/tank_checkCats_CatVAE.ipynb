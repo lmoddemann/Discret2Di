{
 "cells": [
  {
   "cell_type": "markdown",
   "metadata": {},
   "source": [
    "# Evaluation of CatVAE discretization performance with preprocessed tank Dataset\n",
    "Visual evaluation of the preciseness of discretization and meaningful categories. <br>\n",
    "Wihtin the first subplot we plot a selection of measurement values from the dataset. <br>\n",
    "The second subplot includes the learned discretizations from the CatVAE indicated by the index for the x-axis. <br>\n",
    "The third subplot plots the loglikelihood of the CatVAE according to the the input data. <br>\n",
    "\n",
    "To make a statement about the change in states and likelihood, we plot one codeblock with nominal system behavior and the following with anomalous system behavior. "
   ]
  },
  {
   "cell_type": "code",
   "execution_count": null,
   "metadata": {},
   "outputs": [],
   "source": [
    "cd .."
   ]
  },
  {
   "cell_type": "code",
   "execution_count": null,
   "metadata": {},
   "outputs": [],
   "source": [
    "import os\n",
    "import pandas as pd\n",
    "import torch\n",
    "import plotly.graph_objects as go\n",
    "import yaml\n",
    "from plotly.subplots import make_subplots\n",
    "\n",
    "from utils import standardize_data\n",
    "from datamodule import Dataset\n",
    "from catvae_tank import CategoricalVAE"
   ]
  },
  {
   "cell_type": "code",
   "execution_count": null,
   "metadata": {},
   "outputs": [],
   "source": [
    "def plot_like(anom):\n",
    "\n",
    "    MODEL_VERSION = f'CatVAE_training_hparams/tank_simulation'\n",
    "    ckpt_file_name = os.listdir(f'./{MODEL_VERSION}/checkpoints/')[-1]\n",
    "    ckpt_file_path = f'./{MODEL_VERSION}/checkpoints/{ckpt_file_name}'\n",
    "    with open(f'./{MODEL_VERSION}/hparams.yaml') as f:\n",
    "        hparam = yaml.safe_load(f)\n",
    "    model = CategoricalVAE(hparams=hparam[\"hparams\"]).load_from_checkpoint(ckpt_file_path)\n",
    "\n",
    "    if anom==False:\n",
    "        df_csv = pd.read_csv('preprocessed_data/tank_simulation/norm.csv').reset_index(drop=True)[1000:]\n",
    "    else: \n",
    "        df_csv = pd.read_csv('preprocessed_data/tank_simulation/q1_faulty.csv').reset_index(drop=True)[1000:]\n",
    "    df_sc = standardize_data(df_csv, 'scaler_SWaT.pkl')\n",
    "    df = Dataset(dataframe = df_sc)[:][0:]\n",
    "\n",
    "    likelihood = pd.DataFrame(model.function_likelihood(torch.tensor(df).to(device='cuda')).cpu().detach()).rolling(10).median().fillna(method='bfill')\n",
    "    pzx_logits, pzx, mu, sigma, pxz, z = model.get_states(torch.tensor(df).to(device='cuda'))\n",
    "    df_states = pd.DataFrame(torch.zeros(z.shape).to(device='cuda').scatter(1, torch.argmax(pzx_logits, dim=1).unsqueeze(1), 1).cpu().detach().numpy(), index=pd.DataFrame(df_csv).index).astype(int)\n",
    "    cats = pd.DataFrame(df_states.idxmax(axis=1), index=pd.DataFrame(df_csv).index)  \n",
    "\n",
    "    fig = make_subplots(rows=3, cols=1, shared_xaxes=True)\n",
    "    for i in range(0,3):\n",
    "        fig.add_trace(go.Scatter(x=pd.DataFrame(df_csv).index, y=pd.DataFrame(df_sc)[pd.DataFrame(df_sc).columns[i]], name=df_csv.columns[i],  mode='markers'), \n",
    "                      row=1, col=1)\n",
    "    fig.add_trace(go.Scatter(x = pd.DataFrame(df_csv).index, y=cats[cats.columns[0]], name='category', mode='lines'),row=2, col=1)\n",
    "    fig.add_trace(go.Scatter(x=pd.DataFrame(df_csv).index, y=likelihood[likelihood.columns[0]], mode='markers'), row=3, col=1)\n",
    "    print(len(cats[cats.columns[0]].unique()))\n",
    "    return fig\n"
   ]
  },
  {
   "cell_type": "code",
   "execution_count": null,
   "metadata": {},
   "outputs": [],
   "source": [
    "# plot of nominal data\n",
    "plot_like(anom=False)"
   ]
  },
  {
   "cell_type": "code",
   "execution_count": null,
   "metadata": {},
   "outputs": [],
   "source": [
    "# plot of anomalous data by exceeding the likelihood of -40 compared to the plot above\n",
    "plot_like(anom=True)"
   ]
  },
  {
   "cell_type": "code",
   "execution_count": null,
   "metadata": {},
   "outputs": [],
   "source": []
  }
 ],
 "metadata": {
  "kernelspec": {
   "display_name": "Python 3",
   "language": "python",
   "name": "python3"
  },
  "language_info": {
   "codemirror_mode": {
    "name": "ipython",
    "version": 3
   },
   "file_extension": ".py",
   "mimetype": "text/x-python",
   "name": "python",
   "nbconvert_exporter": "python",
   "pygments_lexer": "ipython3",
   "version": "3.9.17"
  },
  "orig_nbformat": 4
 },
 "nbformat": 4,
 "nbformat_minor": 2
}
