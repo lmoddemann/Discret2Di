{
 "cells": [
  {
   "cell_type": "markdown",
   "metadata": {},
   "source": [
    "# Evaluation of Discret2Di on the simulated Three-Tank Dataset\n",
    "First the nominal system needs to be learned. \n",
    "Afterwards the different anomaly datasets were processed and diagnosis will be carried out."
   ]
  },
  {
   "cell_type": "code",
   "execution_count": null,
   "metadata": {},
   "outputs": [],
   "source": [
    "cd .."
   ]
  },
  {
   "cell_type": "code",
   "execution_count": null,
   "metadata": {},
   "outputs": [],
   "source": [
    "from discret2di import check_diagnosis, check_normal, diagnose_system"
   ]
  },
  {
   "cell_type": "code",
   "execution_count": null,
   "metadata": {},
   "outputs": [],
   "source": [
    "# path to the trained CatVAE\n",
    "version = 'tank_simulation'\n",
    "# min threshold for applicable rules \n",
    "min_threshold = 0.0005\n",
    "# factor of support for association rule mining\n",
    "min_support = 0.0002\n",
    "# Learning of rules for nominal behavior\n",
    "anomaly = 'Tank_normal'\n",
    "# likelihood threshold for anomaly detection\n",
    "threshold_likelihood = -50\n",
    "# paths to save for learned rules\n",
    "dict_path = 'tank_dict_states_char'\n",
    "rule_path = 'tank_rule'\n",
    "\n",
    "anomaly_df, likelihood = check_normal(version, min_threshold, min_support, anomaly, threshold_likelihood, dict_path, rule_path)"
   ]
  },
  {
   "cell_type": "markdown",
   "metadata": {},
   "source": [
    "# Diagnosis of the different simulated anomalies\n",
    "The learned and discretized categories were saved at diagnosis/tank_rule.txt <br>\n",
    "The next step is to integrate the heuristic knowledge about the tank system. <br>\n",
    "These information were added to the categories and saved under the file tank_rule_complete.txt"
   ]
  },
  {
   "cell_type": "code",
   "execution_count": null,
   "metadata": {},
   "outputs": [],
   "source": [
    "# Anomaly scenario q1 faulty with 1 anomalous simulation cycle\n",
    "anomaly_diag = 'Tank_q1fault'\n",
    "rule_path_complete = 'tank_rule_complete'\n",
    "\n",
    "threshold_likelihood_diag = -50\n",
    "anomaly_df_diag, likelihood_anom = check_diagnosis(version, min_threshold, min_support, anomaly_diag, threshold_likelihood_diag, dict_path, rule_path_complete)\n",
    "df_diag = diagnose_system(rule_path=rule_path_complete, anom_df=anomaly_df_diag)\n",
    "# Diag of q1 or v12 with true root cause! In the end, other components are diagnosed by error propagation.\n",
    "df_diag.loc[df_diag[\"results\"].isin([False])].iloc[:,:]\n"
   ]
  },
  {
   "cell_type": "code",
   "execution_count": null,
   "metadata": {},
   "outputs": [],
   "source": [
    "# Anomaly scenario q1 faulty with 3 anomalous simulation cycles\n",
    "anomaly_diag = 'Tank_q1fault_3cycles'\n",
    "rule_path_complete = 'tank_rule_complete'\n",
    "\n",
    "threshold_likelihood_diag = -50\n",
    "anomaly_df_diag, likelihood_anom = check_diagnosis(version, min_threshold, min_support, anomaly_diag, threshold_likelihood_diag, dict_path, rule_path_complete)\n",
    "df_diag = diagnose_system(rule_path=rule_path_complete, anom_df=anomaly_df_diag)\n",
    "# Diag of q1 or v12 with true root cause!\n",
    "df_diag.loc[df_diag[\"results\"].isin([False])].iloc[:,:]\n"
   ]
  },
  {
   "cell_type": "code",
   "execution_count": null,
   "metadata": {},
   "outputs": [],
   "source": [
    "# Anomaly scenario v12 faulty with 1 anomalous simulation cycle\n",
    "anomaly_diag = 'Tank_v12fault'\n",
    "rule_path_complete = 'tank_rule_complete'\n",
    "\n",
    "threshold_likelihood_diag = -50\n",
    "anomaly_df_diag, likelihood_anom = check_diagnosis(version, min_threshold, min_support, anomaly_diag, threshold_likelihood_diag, dict_path, rule_path_complete)\n",
    "df_diag = diagnose_system(rule_path=rule_path_complete, anom_df=anomaly_df_diag)\n",
    "# Diag of q1 or v12 with true root cause!\n",
    "df_diag.loc[df_diag[\"results\"].isin([False])].iloc[:,:]\n"
   ]
  },
  {
   "cell_type": "code",
   "execution_count": null,
   "metadata": {},
   "outputs": [],
   "source": [
    "# Anomaly scenario v12 faulty with 3 anomalous simulation cycles\n",
    "anomaly_diag = 'Tank_v12fault_3cycles'\n",
    "rule_path_complete = 'tank_rule_complete'\n",
    "\n",
    "threshold_likelihood_diag = -50\n",
    "anomaly_df_diag, likelihood_anom = check_diagnosis(version, min_threshold, min_support, anomaly_diag, threshold_likelihood_diag, dict_path, rule_path_complete)\n",
    "df_diag = diagnose_system(rule_path=rule_path_complete, anom_df=anomaly_df_diag)\n",
    "# Diag of q1 or v12 with true root cause!\n",
    "df_diag.loc[df_diag[\"results\"].isin([False])].iloc[:,:]\n"
   ]
  },
  {
   "cell_type": "code",
   "execution_count": null,
   "metadata": {},
   "outputs": [],
   "source": [
    "# Anomaly scenario v23 faulty with 1 anomalous simulation cycle\n",
    "anomaly_diag = 'Tank_v23fault'\n",
    "rule_path_complete = 'tank_rule_complete'\n",
    "\n",
    "threshold_likelihood_diag = -12.3\n",
    "anomaly_df_diag, likelihood_anom = check_diagnosis(version, min_threshold, min_support, anomaly_diag, threshold_likelihood_diag, dict_path, rule_path_complete)\n",
    "df_diag = diagnose_system(rule_path=rule_path_complete, anom_df=anomaly_df_diag)\n",
    "# Diag of v23 or v3. Anomaly/Diagnosis not true!\n",
    "df_diag.loc[df_diag[\"results\"].isin([False])].iloc[:,:]\n"
   ]
  },
  {
   "cell_type": "code",
   "execution_count": null,
   "metadata": {},
   "outputs": [],
   "source": [
    "# Anomaly scenario v23 faulty with 3 anomalous simulation cycles\n",
    "anomaly_diag = 'Tank_v23fault_3cycles'\n",
    "rule_path_complete = 'tank_rule_complete'\n",
    "\n",
    "threshold_likelihood_diag = -10\n",
    "anomaly_df_diag, likelihood_anom = check_diagnosis(version, min_threshold, min_support, anomaly_diag, threshold_likelihood_diag, dict_path, rule_path_complete)\n",
    "df_diag = diagnose_system(rule_path=rule_path_complete, anom_df=anomaly_df_diag)\n",
    "# Diag of v23 or v3 with true root cause!\n",
    "df_diag.loc[df_diag[\"results\"].isin([False])].iloc[:,:]\n"
   ]
  },
  {
   "cell_type": "code",
   "execution_count": null,
   "metadata": {},
   "outputs": [],
   "source": [
    "# Anomaly scenario v3 faulty with 1 anomalous simulation cycle\n",
    "anomaly_diag = 'Tank_v3fault'\n",
    "rule_path_complete = 'tank_rule_complete'\n",
    "\n",
    "threshold_likelihood_diag = -20\n",
    "anomaly_df_diag, likelihood_anom = check_diagnosis(version, min_threshold, min_support, anomaly_diag, threshold_likelihood_diag, dict_path, rule_path_complete)\n",
    "df_diag = diagnose_system(rule_path=rule_path_complete, anom_df=anomaly_df_diag)\n",
    "# Diag of v23 or v3. Anomaly/Diagnosis not true!\n",
    "df_diag.loc[df_diag[\"results\"].isin([False])].iloc[:,:]\n"
   ]
  },
  {
   "cell_type": "code",
   "execution_count": null,
   "metadata": {},
   "outputs": [],
   "source": [
    "# Anomaly scenario v3 faulty with 3 anomalous simulation cycles\n",
    "anomaly_diag = 'Tank_v3fault_3cycles'\n",
    "rule_path_complete = 'tank_rule_complete'\n",
    "\n",
    "threshold_likelihood_diag = -60\n",
    "anomaly_df_diag, likelihood_anom = check_diagnosis(version, min_threshold, min_support, anomaly_diag, threshold_likelihood_diag, dict_path, rule_path_complete)\n",
    "df_diag = diagnose_system(rule_path=rule_path_complete, anom_df=anomaly_df_diag)\n",
    "# Diag of v23 or v3 from idx 1802 to 1805\n",
    "df_diag.loc[df_diag[\"results\"].isin([False])].iloc[:,:]\n"
   ]
  },
  {
   "cell_type": "code",
   "execution_count": null,
   "metadata": {},
   "outputs": [],
   "source": []
  },
  {
   "cell_type": "code",
   "execution_count": null,
   "metadata": {},
   "outputs": [],
   "source": []
  },
  {
   "cell_type": "code",
   "execution_count": null,
   "metadata": {},
   "outputs": [],
   "source": []
  }
 ],
 "metadata": {
  "kernelspec": {
   "display_name": "Python 3",
   "language": "python",
   "name": "python3"
  },
  "language_info": {
   "codemirror_mode": {
    "name": "ipython",
    "version": 3
   },
   "file_extension": ".py",
   "mimetype": "text/x-python",
   "name": "python",
   "nbconvert_exporter": "python",
   "pygments_lexer": "ipython3",
   "version": "3.11.8"
  },
  "orig_nbformat": 4
 },
 "nbformat": 4,
 "nbformat_minor": 2
}
