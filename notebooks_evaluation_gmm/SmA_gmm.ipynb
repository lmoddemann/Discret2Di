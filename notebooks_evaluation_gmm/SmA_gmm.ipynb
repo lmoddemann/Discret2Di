{
 "cells": [
  {
   "cell_type": "markdown",
   "metadata": {},
   "source": [
    "# Training of GMM with preprocessed SmA Dataset\n",
    "Visual evaluation of the preciseness of discretization and meaningful categories compared to original states. <br>\n",
    "Wihtin the first subplot we plot a selection of measurement values from the dataset. <br>\n",
    "The second subplot includes the learned states from the GMM. <br>\n",
    "The third subplot plots the loglikelihood of the GMM according to the the input data. <br>\n",
    "\n",
    "To make a statement about the change in states and likelihood, we plot one codeblock with nominal system behavior and the following with anomalous system behavior. "
   ]
  },
  {
   "cell_type": "code",
   "execution_count": null,
   "metadata": {},
   "outputs": [],
   "source": [
    "cd .."
   ]
  },
  {
   "cell_type": "code",
   "execution_count": null,
   "metadata": {},
   "outputs": [],
   "source": [
    "import pandas as pd \n",
    "from sklearn.mixture import GaussianMixture\n",
    "from plotly.subplots import make_subplots\n",
    "import plotly.graph_objects as go\n",
    "from utils import standardize_data\n"
   ]
  },
  {
   "cell_type": "code",
   "execution_count": null,
   "metadata": {},
   "outputs": [],
   "source": [
    "def plot_gmm(data, labels, like, labels_orig):\n",
    "    l = data.shape[1]\n",
    "    fig = make_subplots(rows=3, cols=1, shared_xaxes=True)\n",
    "    for i in range(0, l):\n",
    "        fig.add_trace(go.Scatter(x=data.index, y=data[data.columns[i]], mode='markers', name=data.columns[i]), \n",
    "                                row=1, col=1)\n",
    "    fig.add_trace(go.Scatter(x=data.index, y=labels, mode='markers', name='categories'), row=2, col=1)\n",
    "    fig.add_trace(go.Scatter(x=data.index, y=labels_orig, mode='markers', name='original categories'), row=2, col=1)\n",
    "\n",
    "    fig.add_trace(go.Scatter(x=data.index, y=like, mode='markers', name='likelihood'), row=3, col=1)\n",
    "    fig.show()"
   ]
  },
  {
   "cell_type": "code",
   "execution_count": null,
   "metadata": {},
   "outputs": [],
   "source": [
    "path_norm = 'preprocessed_data/SmA/id1_norm.csv'\n",
    "path_anom = 'preprocessed_data/SmA/id2_anomaly.csv'\n",
    "\n",
    "df_norm = pd.read_csv(path_norm)\n",
    "df_anom = pd.read_csv(path_anom)"
   ]
  },
  {
   "cell_type": "code",
   "execution_count": null,
   "metadata": {},
   "outputs": [],
   "source": [
    "# Fitting GMM in nominal data\n",
    "gmm = GaussianMixture(n_components=5, random_state=0, covariance_type='diag').fit(df_norm)"
   ]
  },
  {
   "cell_type": "code",
   "execution_count": null,
   "metadata": {},
   "outputs": [],
   "source": [
    "# predict labels/discretizations and its likelihood.\n",
    "labels = gmm.predict(df_norm)\n",
    "labels_anom = gmm.predict(df_anom)\n",
    "labels_orig = df_norm['CuStepNo ValueY'].reset_index(drop=True)\n",
    "labels_orig_anom = df_anom['CuStepNo ValueY'].reset_index(drop=True)\n",
    "like_gmm = pd.DataFrame(gmm.score_samples(df_norm)).rolling(10).median().fillna(method='bfill')\n",
    "like_gmm_anom = pd.DataFrame(gmm.score_samples(df_anom)).rolling(10).median().fillna(method='bfill')\n"
   ]
  },
  {
   "cell_type": "code",
   "execution_count": null,
   "metadata": {},
   "outputs": [],
   "source": [
    "# plot of nominal data with a point anomaly \n",
    "plot_gmm(data=df_norm[10000:15000], labels=labels[10000:15000], like=like_gmm[0][10000:15000], labels_orig=labels_orig[5000:10000])"
   ]
  },
  {
   "cell_type": "code",
   "execution_count": null,
   "metadata": {},
   "outputs": [],
   "source": [
    "# plot of anomalous data as can be seen e.g. between idx 46.000 and 46.500 of the likelihood\n",
    "plot_gmm(data=df_anom[45000:50000], labels=labels_anom[45000:50000], like=like_gmm_anom[0][45000:50000], labels_orig=labels_orig_anom[45000:50000])"
   ]
  },
  {
   "cell_type": "code",
   "execution_count": null,
   "metadata": {},
   "outputs": [],
   "source": []
  }
 ],
 "metadata": {
  "kernelspec": {
   "display_name": "Python 3",
   "language": "python",
   "name": "python3"
  },
  "language_info": {
   "codemirror_mode": {
    "name": "ipython",
    "version": 3
   },
   "file_extension": ".py",
   "mimetype": "text/x-python",
   "name": "python",
   "nbconvert_exporter": "python",
   "pygments_lexer": "ipython3",
   "version": "3.9.17"
  },
  "orig_nbformat": 4
 },
 "nbformat": 4,
 "nbformat_minor": 2
}
