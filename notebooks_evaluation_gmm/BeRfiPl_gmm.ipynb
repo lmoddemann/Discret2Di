{
 "cells": [
  {
   "cell_type": "markdown",
   "metadata": {},
   "source": [
    "# Training of GMM with preprocessed BeRfiPl Dataset\n",
    "Visual evaluation of the preciseness of discretization and meaningful categories compared to original states. <br>\n",
    "Wihtin the first subplot we plot a selection of measurement values from the dataset. <br>\n",
    "The second subplot includes the learned discretizations from the GMM. <br>\n",
    "The third subplot plots the loglikelihood of the GMM according to the the input data. <br>\n",
    "\n",
    "To make a statement about the change in states and likelihood, we plot one codeblock with nominal system behavior and the following with anomalous system behavior. "
   ]
  },
  {
   "cell_type": "code",
   "execution_count": null,
   "metadata": {},
   "outputs": [],
   "source": [
    "cd .."
   ]
  },
  {
   "cell_type": "code",
   "execution_count": null,
   "metadata": {},
   "outputs": [],
   "source": [
    "import pandas as pd \n",
    "from sklearn.mixture import GaussianMixture\n",
    "from plotly.subplots import make_subplots\n",
    "import plotly.graph_objects as go\n",
    "from utils import standardize_data\n"
   ]
  },
  {
   "cell_type": "code",
   "execution_count": null,
   "metadata": {},
   "outputs": [],
   "source": [
    "def plot_gmm(data, labels, like):\n",
    "    fig = make_subplots(rows=3, cols=1, shared_xaxes=True)\n",
    "    # due to high dimensionality, we restrict the plot to the first five columns\n",
    "    for i in range(0, 5):\n",
    "        fig.add_trace(go.Scatter(x=data.index, y=data[data.columns[i]], mode='markers', name=data.columns[i]), \n",
    "                                row=1, col=1)\n",
    "    fig.add_trace(go.Scatter(x=data.index, y=labels, mode='markers', name='categories'), row=2, col=1)\n",
    "    fig.add_trace(go.Scatter(x=data.index, y=like, mode='markers', name='likelihood'), row=3, col=1)\n",
    "    fig.show()"
   ]
  },
  {
   "cell_type": "code",
   "execution_count": null,
   "metadata": {},
   "outputs": [],
   "source": [
    "path_norm = 'preprocessed_data/BeRfiPl/ds1n.csv'\n",
    "path_anom = 'preprocessed_data/BeRfiPl/ds1c.csv'\n",
    "\n",
    "df_norm = pd.read_csv(path_norm, index_col=0).reset_index(drop=True)\n",
    "df_anom = pd.read_csv(path_anom, index_col=0).reset_index(drop=True)\n"
   ]
  },
  {
   "cell_type": "code",
   "execution_count": null,
   "metadata": {},
   "outputs": [],
   "source": [
    "# Fitting GMM in nominal data\n",
    "gmm = GaussianMixture(n_components=7, random_state=0, covariance_type='full').fit(df_norm)"
   ]
  },
  {
   "cell_type": "code",
   "execution_count": null,
   "metadata": {},
   "outputs": [],
   "source": [
    "# predict labels/discretizations and its likelihood\n",
    "labels = gmm.predict(df_norm)\n",
    "labels_anom = gmm.predict(df_anom)\n",
    "like_gmm = pd.DataFrame(gmm.score_samples(df_norm))\n",
    "like_gmm_anom = pd.DataFrame(gmm.score_samples(df_anom))"
   ]
  },
  {
   "cell_type": "code",
   "execution_count": null,
   "metadata": {},
   "outputs": [],
   "source": [
    "# plot of nominal data\n",
    "plot_gmm(data=df_norm[:], labels=labels[:], like=like_gmm[0][:])"
   ]
  },
  {
   "cell_type": "code",
   "execution_count": null,
   "metadata": {},
   "outputs": [],
   "source": [
    "# plot of anomalous data as can be seen between idx 3.180 and 3.247\n",
    "plot_gmm(data=df_anom[:], labels=labels_anom[:], like=like_gmm_anom[0][0:])"
   ]
  },
  {
   "cell_type": "code",
   "execution_count": null,
   "metadata": {},
   "outputs": [],
   "source": []
  }
 ],
 "metadata": {
  "kernelspec": {
   "display_name": "Python 3",
   "language": "python",
   "name": "python3"
  },
  "language_info": {
   "codemirror_mode": {
    "name": "ipython",
    "version": 3
   },
   "file_extension": ".py",
   "mimetype": "text/x-python",
   "name": "python",
   "nbconvert_exporter": "python",
   "pygments_lexer": "ipython3",
   "version": "3.9.17"
  },
  "orig_nbformat": 4
 },
 "nbformat": 4,
 "nbformat_minor": 2
}
