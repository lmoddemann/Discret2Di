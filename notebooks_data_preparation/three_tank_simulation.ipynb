{
 "cells": [
  {
   "cell_type": "markdown",
   "metadata": {},
   "source": [
    "# Preparation of Three Tank Simulation Datasets\n",
    "Execute the following lines of code for the generation of the datasets. <br>\n",
    "The Simulation will output a normal sequence of the tank process and different datasets including anomalies. <br>\n",
    "The anomalies will be a fault in valve v12, v23, v3 and a fault in the inflow q1.<br>\n",
    "How the simulation is build and which parameters are included can be read within the paper of Steude et. al (https://doi.org/10.1016/j.ifacol.2022.07.099)"
   ]
  },
  {
   "cell_type": "code",
   "execution_count": 1,
   "metadata": {},
   "outputs": [
    {
     "name": "stdout",
     "output_type": "stream",
     "text": [
      "/home/jovyan/Discret2Di\n"
     ]
    }
   ],
   "source": [
    "cd .."
   ]
  },
  {
   "cell_type": "code",
   "execution_count": 2,
   "metadata": {},
   "outputs": [],
   "source": [
    "from typing import Tuple\n",
    "\n",
    "import numpy as np\n",
    "import pandas as pd\n",
    "from scipy.integrate import odeint\n",
    "from tqdm import tqdm"
   ]
  },
  {
   "cell_type": "code",
   "execution_count": 3,
   "metadata": {},
   "outputs": [],
   "source": [
    "class ThreeTankSimulation:\n",
    "    \"\"\"Simulates the three tank system.\n",
    "    The system is simulated using the scipy odeint function.\n",
    "    \"\"\"\n",
    "    def __init__(self, tank_1_lvl=0, tank_2_lvl=0, tank_3_lvl=0, seed=42):\n",
    "        self.tank_levels = np.array([tank_1_lvl, tank_2_lvl, tank_3_lvl])\n",
    "        self.seed = seed\n",
    "        self.state_df = pd.DataFrame(columns=[\"q1\", \"q3\", \"kv1\", \"kv2\", \"kv3\", \"duration\"])\n",
    "\n",
    "    def add_state(self, q1: float, q3: float, kv1: float, kv2: float, kv3: float, duration: int, name=None) -> None:\n",
    "        \"\"\"Add a state to the state dataframe.\n",
    "        A state consists of specific settings to the system's parameters.\n",
    "        Args:\n",
    "            q1 (float): inflow tank 1\n",
    "            q3 (float): inflow tank 3\n",
    "            kv1 (float): coefficient of the valve between tank 1 and 2\n",
    "            kv2 (float): coefficient of the valve between tank 2 and 3\n",
    "            kv3 (float): coefficient of the outgoing valve on tank 3\n",
    "            duration (int): number of time steps of the state\n",
    "            name (string): the name of the state\n",
    "        \"\"\"\n",
    "        if name is not None:\n",
    "            self.state_df.loc[name] = [q1, q3, kv1, kv2, kv3, duration]\n",
    "        else:\n",
    "            self.state_df.append(dict(q1=q1, q3=q3, kv1=kv1, kv2=kv2, kv3=kv3, duration=duration),\n",
    "                                 ignore_index=True)\n",
    "\n",
    "    @staticmethod\n",
    "    def _system_dynamics_function(x, t, q1, q3, kv1, kv2, kv3):\n",
    "        # ensure non-negative tank levels\n",
    "        x1, x2, x3 = x * (x > 0)\n",
    "        # ODE\n",
    "        dh1_dt = q1 - kv1 * np.sign(x1 - x2) * np.sqrt(np.abs(x1 - x2))\n",
    "        dh2_dt = kv1 * np.sign(x1 - x2) * np.sqrt(np.abs(x1 - x2)) \\\n",
    "                 - kv2 * np.sign(x2 - x3) * np.sqrt(np.abs(x2 - x3))\n",
    "        dh3_dt = q3 + kv2 * np.sign(x2 - x3) * np.sqrt(np.abs(x2 - x3)) - kv3 * np.sqrt(x3)\n",
    "\n",
    "        return dh1_dt, dh2_dt, dh3_dt\n",
    "\n",
    "    def _compute_section(self, duration: int = 10, x0: np.array = np.array([30, 10, 50]),\n",
    "                         kv1: float = 1, kv2: float = 1, kv3: float = 1,\n",
    "                         q1: float = 1, q3: float = 1):\n",
    "        t = np.array(range(duration))\n",
    "        y = odeint(self._system_dynamics_function, x0, t, (q1, q3, kv1, kv2, kv3))\n",
    "        # non-negativity\n",
    "        y = y * (y > 0)\n",
    "        y_stop = y[-1, :]\n",
    "        return y, y_stop\n",
    "\n",
    "    @staticmethod\n",
    "    def _duplicate_row(row, factor):\n",
    "        return pd.concat([row.copy()] * factor, axis = 1)\n",
    "\n",
    "    def _configuration_seq(self, cycle: list, nb_of_cycles: int,\n",
    "                           sd_q: float, sd_kv: float, sd_dur: float,\n",
    "                           leaky: bool, periodic_inflow: bool) -> Tuple[pd.DataFrame, pd.DataFrame]:\n",
    "        \"\"\"generates configuration dataframes\n",
    "        The configuration dataframe describes the state at every time step.\n",
    "        Outputs original state configuration and configuration with noise.\n",
    "        \"\"\"\n",
    "        # generate cycle of states\n",
    "        seq = list()\n",
    "        for i in range(nb_of_cycles):\n",
    "            for state in cycle:\n",
    "                if type(state) is str:\n",
    "                    seq.append(self.state_df.loc[state])\n",
    "                else:\n",
    "                    seq.append((self.state_df.iloc[state, :]))\n",
    "        seq_df = pd.concat(seq, axis=1).T.astype({\"duration\": int})\n",
    "        seq_len = seq_df.shape[0]\n",
    "\n",
    "        # add periodic inflow\n",
    "        if periodic_inflow:\n",
    "            amplitude = 0.5 * seq_df[\"q1\"].max()\n",
    "            wave = amplitude * np.cos(np.linspace(np.pi, 5*np.pi, 2000))\n",
    "\n",
    "            q1_mask = seq_df[\"q1\"] > 0\n",
    "            q3_mask = seq_df[\"q3\"] > 0\n",
    "            \n",
    "            seq_df.loc[q1_mask, \"q1\"] += wave[:q1_mask.sum()]\n",
    "            seq_df.loc[q3_mask, \"q3\"] += wave[:q3_mask.sum()]\n",
    "\n",
    "        # add noise\n",
    "        np.random.seed(self.seed)\n",
    "        seq_df_noise = seq_df.copy()\n",
    "        if sd_q is not None:\n",
    "            q_noise = np.random.normal(0, sd_q, 2 * seq_len)\n",
    "            seq_df_noise[\"q1\"] = seq_df[\"q1\"] + q_noise[:seq_len]\n",
    "            seq_df_noise[\"q3\"] = seq_df[\"q3\"] + q_noise[seq_len:]\n",
    "            if not leaky:\n",
    "                seq_df_noise[\"q1\"].where(seq_df[\"q1\"] > 0, other=0, inplace=True)  # no leaky inflow\n",
    "                seq_df_noise[\"q3\"].where(seq_df[\"q3\"] > 0, other=0, inplace=True)  # (set back to 0 if no inflow)\n",
    "        if sd_kv is not None:\n",
    "            kv_noise = np.random.normal(0, sd_kv, 3 * seq_len)\n",
    "            seq_df_noise[\"kv1\"] = seq_df[\"kv1\"] + kv_noise[:seq_len]\n",
    "            seq_df_noise[\"kv2\"] = seq_df[\"kv2\"] + kv_noise[seq_len:2*seq_len]\n",
    "            seq_df_noise[\"kv3\"] = seq_df[\"kv3\"] + kv_noise[2*seq_len:]\n",
    "            if not leaky:\n",
    "                seq_df_noise[\"kv1\"].where(seq_df[\"kv1\"] > 0, other=0, inplace=True)  # no leaky valve\n",
    "                seq_df_noise[\"kv2\"].where(seq_df[\"kv2\"] > 0, other=0, inplace=True)\n",
    "                seq_df_noise[\"kv3\"].where(seq_df[\"kv3\"] > 0, other=0, inplace=True)\n",
    "        if sd_dur is not None:\n",
    "            dur_noise = np.random.normal(0, sd_dur, seq_len)\n",
    "            seq_df_noise[\"duration\"] = round(seq_df[\"duration\"] + dur_noise).astype(int)\n",
    "        # no negative inflow etc.\n",
    "        seq_df = seq_df.where(seq_df >= 0, 0)\n",
    "        seq_df_noise = seq_df_noise.where(seq_df_noise >= 0, 0) \n",
    "\n",
    "        return seq_df, seq_df_noise\n",
    "\n",
    "    @staticmethod\n",
    "    def _export_config(seq_df, seq_df_noise, export_path):\n",
    "        \"\"\"exports state configuration dataframe\n",
    "        Transforms the dataframe so that the state at every time step is exported.\n",
    "        \"\"\"\n",
    "        seq0 = list()\n",
    "        seq0_noise = list()\n",
    "        for (_, row), (_, row_noise) in zip(seq_df.iterrows(), seq_df_noise.iterrows()):\n",
    "            duration = int(row_noise.duration)  # actual duration\n",
    "            seq0 += [row] * duration\n",
    "            seq0_noise += [row_noise] * duration\n",
    "        seq0_df = pd.concat(seq0_noise, axis=1).T\n",
    "        seq0_df.to_csv(f\"{export_path[:-4]}_config.csv\", index=False)\n",
    "\n",
    "    def simulate(self, cycle_list: list, nb_of_cycles_list: list,\n",
    "                 sd_q: float = None, sd_kv: float = None, sd_dur: float = None, sd_white_noise: float = None, \n",
    "                 leaky: bool = False, periodic_inflow = False,\n",
    "                 export_path: str = None) -> np.array:\n",
    "        \"\"\"Simulates the dynamics in the three-tank system\n",
    "        Args:\n",
    "            cycle (list): sequence of states that compose a typical cycle.\n",
    "                          Either list of integers or list of state names.\n",
    "            nb_of_cycles (int): number of successive cycles to simulate\n",
    "            sd_q (float): if set, white noise with this standard deviation is added to the inflow\n",
    "            sd_kv (float): if set, white noise with this standard deviation is added to the valve coefficients\n",
    "            sd_dur (float): if set, white noise with this standard deviation is added to the duration\n",
    "            leaky (bool): if true, add noise on closed valves or stopped inflow\n",
    "            periodic_inflow (bool): if true, add periodic variation to the inflow\n",
    "            export_path (str): if set, save simulation data at export path\n",
    "        \"\"\"\n",
    "        seq_denoised_list = list()\n",
    "        seq_list = list()\n",
    "        for cycle, nb_of_cycles in zip(cycle_list, nb_of_cycles_list):\n",
    "            seq_denoised, seq = self._configuration_seq(cycle, nb_of_cycles, sd_q, sd_kv, sd_dur, leaky, periodic_inflow)\n",
    "            seq_denoised_list.append(seq_denoised)\n",
    "            seq_list.append(seq)\n",
    "        \n",
    "        seq_denoised = pd.concat(seq_denoised_list, axis=0)\n",
    "        seq = pd.concat(seq_list, axis=0)\n",
    "        \n",
    "        y_ls = []\n",
    "        y_stop = self.tank_levels\n",
    "        for config in tqdm(seq.itertuples(), total=len(seq)):\n",
    "            y, y_stop = self._compute_section(duration=config.duration, x0=y_stop,\n",
    "                                            kv1=config.kv1, kv2=config.kv2, kv3=config.kv3,\n",
    "                                            q1=config.q1, q3=config.q3)\n",
    "            y_ls.append(y)\n",
    "        y_out = np.concatenate(y_ls)\n",
    "\n",
    "        if sd_white_noise is not None:\n",
    "            np.random.seed(self.seed)\n",
    "            y_out += np.random.normal(0, sd_white_noise, y_out.shape)\n",
    "\n",
    "        if export_path is not None:\n",
    "            y_df = pd.DataFrame(y_out, columns=['h1', 'h2', 'h3'])\n",
    "            y_df.to_csv(export_path, index=False)\n",
    "            self._export_config(seq_denoised, seq, export_path)\n",
    "\n",
    "        return y_out\n"
   ]
  },
  {
   "cell_type": "code",
   "execution_count": 4,
   "metadata": {},
   "outputs": [],
   "source": [
    "tank_1_lvl=7\n",
    "tank_2_lvl=3\n",
    "tank_3_lvl=0\n",
    "q = 0.1 # inflow\n",
    "kv = 0.1 # valve coefficient\n",
    "duration = 50\n",
    "\n",
    "system = ThreeTankSimulation(tank_1_lvl=tank_1_lvl, tank_2_lvl=tank_2_lvl, tank_3_lvl=tank_3_lvl)\n",
    "system.add_state(q1=q, q3=0, kv1=0,  kv2=0,  kv3=0,  duration=duration, name=\"q1\")\n",
    "system.add_state(q1=0, q3=0, kv1=kv, kv2=0,  kv3=0,  duration=duration, name=\"v12\")\n",
    "system.add_state(q1=0, q3=0, kv1=0,  kv2=kv, kv3=0,  duration=duration, name=\"v23\")\n",
    "system.add_state(q1=0, q3=0, kv1=0,  kv2=0,  kv3=kv, duration=duration, name=\"v3\")\n",
    "system.add_state(q1=0, q3=0, kv1=0,  kv2=0,  kv3=0,  duration=duration, name=\"rest\")\n",
    "system.add_state(q1=q, q3=0, kv1=0,  kv2=0,  kv3=kv, duration=duration, name=\"q1+v3\")\n",
    "system.add_state(q1=0, q3=0, kv1=kv, kv2=kv, kv3=0,  duration=duration, name=\"v12+v23\")\n",
    "system.add_state(q1=0, q3=q, kv1=0,  kv2=0,  kv3=0,  duration=duration, name=\"q3\")\n",
    "\n",
    "# faulty states\n",
    "system.add_state(q1=0, q3=0, kv1=kv * 0.1, kv2=0,  kv3=0,  duration=duration, name=\"v12-faulty\")\n",
    "system.add_state(q1=0, q3=0, kv1=0,  kv2=kv * 0, kv3=0,  duration=duration, name=\"v23-faulty\")\n",
    "system.add_state(q1=0, q3=0, kv1=0,  kv2=0,  kv3=kv * 0.5, duration=duration, name=\"v3-faulty\")\n",
    "system.add_state(q1=1, q3=0, kv1=0,  kv2=0,  kv3=0, duration=duration, name=\"q1-faulty\")\n",
    "\n",
    "sd_noise = 0.1\n",
    "sd_q = 0.05  # for one scenario, we add noise on the inflow\n",
    "sd_dur = duration * 0.1  # for one scenario, we add noise on the duration"
   ]
  },
  {
   "cell_type": "code",
   "execution_count": 5,
   "metadata": {},
   "outputs": [
    {
     "name": "stderr",
     "output_type": "stream",
     "text": [
      "100%|██████████| 140/140 [00:06<00:00, 21.98it/s]\n"
     ]
    },
    {
     "data": {
      "text/plain": [
       "array([[ 7.04967142,  2.98617357,  0.06476885],\n",
       "       [ 7.25230299,  2.97658466, -0.0234137 ],\n",
       "       [ 7.35792128,  3.07674347, -0.04694744],\n",
       "       ...,\n",
       "       [13.2760846 , 10.41790394,  0.82922563],\n",
       "       [13.24212143, 10.33615308,  0.82147137],\n",
       "       [13.43363554, 10.40107797,  0.37206751]])"
      ]
     },
     "execution_count": 5,
     "metadata": {},
     "output_type": "execute_result"
    }
   ],
   "source": [
    "# Simulation of normal system states\n",
    "system.simulate(cycle_list=[\n",
    "    [\"q1\", \"v12\", \"v23\", \"q1\", \"v12\", \"v23\", \"v3\"],\n",
    "    [\"q1\", \"v12\", \"v23\", \"q1\", \"v12\", \"v23\", \"v3\"],\n",
    "    [\"q1\", \"v12\", \"v23\", \"q1\", \"v12\", \"v23\", \"v3\"]\n",
    "    ],\n",
    "    nb_of_cycles_list=[4, 1, 15],\n",
    "    sd_q=None, sd_kv=None, sd_dur=None, sd_white_noise=sd_noise,\n",
    "    periodic_inflow=False,\n",
    "    export_path=\"preprocessed_data/tank_simulation/norm.csv\"\n",
    ")"
   ]
  },
  {
   "cell_type": "code",
   "execution_count": 6,
   "metadata": {},
   "outputs": [
    {
     "name": "stderr",
     "output_type": "stream",
     "text": [
      "100%|██████████| 140/140 [00:05<00:00, 27.01it/s]\n"
     ]
    },
    {
     "data": {
      "text/plain": [
       "array([[ 7.04967142,  2.98617357,  0.06476885],\n",
       "       [ 7.25230299,  2.97658466, -0.0234137 ],\n",
       "       [ 7.35792128,  3.07674347, -0.04694744],\n",
       "       ...,\n",
       "       [13.64128699, 10.73967233,  0.91808806],\n",
       "       [13.60732381, 10.65792147,  0.90537835],\n",
       "       [13.79883792, 10.72284636,  0.45101904]])"
      ]
     },
     "execution_count": 6,
     "metadata": {},
     "output_type": "execute_result"
    }
   ],
   "source": [
    "# Simulation of an anomaly in q1 state\n",
    "system.simulate(cycle_list=[\n",
    "    [\"q1\", \"v12\", \"v23\", \"q1\", \"v12\", \"v23\", \"v3\"],\n",
    "    [\"q1\", \"v12\", \"v23\", \"q1-faulty\", \"v12\", \"v23\", \"v3\"],\n",
    "    [\"q1\", \"v12\", \"v23\", \"q1\", \"v12\", \"v23\", \"v3\"]\n",
    "    ],\n",
    "    nb_of_cycles_list=[4, 1, 15],\n",
    "    sd_q=None, sd_kv=None, sd_dur=None, sd_white_noise=sd_noise,\n",
    "    periodic_inflow=False,\n",
    "    export_path=\"preprocessed_data/tank_simulation/q1_faulty.csv\"\n",
    ")"
   ]
  },
  {
   "cell_type": "code",
   "execution_count": 7,
   "metadata": {},
   "outputs": [
    {
     "name": "stderr",
     "output_type": "stream",
     "text": [
      "100%|██████████| 154/154 [00:03<00:00, 44.79it/s]\n"
     ]
    },
    {
     "data": {
      "text/plain": [
       "array([[ 7.04967142,  2.98617357,  0.06476885],\n",
       "       [ 7.25230299,  2.97658466, -0.0234137 ],\n",
       "       [ 7.35792128,  3.07674347, -0.04694744],\n",
       "       ...,\n",
       "       [14.83515569, 11.78820988,  1.12369527],\n",
       "       [14.4620668 , 11.6197649 ,  1.02677147],\n",
       "       [14.71751835, 11.67330369,  0.87716826]])"
      ]
     },
     "execution_count": 7,
     "metadata": {},
     "output_type": "execute_result"
    }
   ],
   "source": [
    "# Simulation of an anomaly in q1 state for 3 cycles\n",
    "system.simulate(cycle_list=[\n",
    "    [\"q1\", \"v12\", \"v23\", \"q1\", \"v12\", \"v23\", \"v3\"],\n",
    "    [\"q1\", \"v12\", \"v23\", \"q1-faulty\", \"v12\", \"v23\", \"v3\"],\n",
    "    [\"q1\", \"v12\", \"v23\", \"q1\", \"v12\", \"v23\", \"v3\"]\n",
    "    ],\n",
    "    nb_of_cycles_list=[4, 3, 15],\n",
    "    sd_q=None, sd_kv=None, sd_dur=None, sd_white_noise=sd_noise,\n",
    "    periodic_inflow=False,\n",
    "    export_path=\"preprocessed_data/tank_simulation/q1_faulty_3cycles.csv\"\n",
    ")"
   ]
  },
  {
   "cell_type": "code",
   "execution_count": 8,
   "metadata": {},
   "outputs": [
    {
     "name": "stderr",
     "output_type": "stream",
     "text": [
      "100%|██████████| 140/140 [00:07<00:00, 19.41it/s]\n"
     ]
    },
    {
     "data": {
      "text/plain": [
       "array([[ 7.04967142,  2.98617357,  0.06476885],\n",
       "       [ 7.25230299,  2.97658466, -0.0234137 ],\n",
       "       [ 7.35792128,  3.07674347, -0.04694744],\n",
       "       ...,\n",
       "       [13.28859334, 10.42890787,  0.83220544],\n",
       "       [13.25463016, 10.34715702,  0.82428045],\n",
       "       [13.44614427, 10.41208191,  0.37470587]])"
      ]
     },
     "execution_count": 8,
     "metadata": {},
     "output_type": "execute_result"
    }
   ],
   "source": [
    "# Simulation of an anomaly in v12 state\n",
    "system.simulate(cycle_list=[\n",
    "    [\"q1\", \"v12\", \"v23\", \"q1\", \"v12\", \"v23\", \"v3\"],\n",
    "    [\"q1\", \"v12\", \"v23\", \"q1\", \"v12-faulty\", \"v23\", \"v3\"],\n",
    "    [\"q1\", \"v12\", \"v23\", \"q1\", \"v12\", \"v23\", \"v3\"]\n",
    "    ],\n",
    "    nb_of_cycles_list=[4, 1, 15],\n",
    "    sd_q=None, sd_kv=None, sd_dur=None, sd_white_noise=sd_noise,\n",
    "    periodic_inflow=False,\n",
    "    export_path=\"preprocessed_data/tank_simulation/v12_faulty.csv\"\n",
    ")"
   ]
  },
  {
   "cell_type": "code",
   "execution_count": 9,
   "metadata": {},
   "outputs": [
    {
     "name": "stderr",
     "output_type": "stream",
     "text": [
      "100%|██████████| 154/154 [00:06<00:00, 23.86it/s]\n"
     ]
    },
    {
     "data": {
      "text/plain": [
       "array([[ 7.04967142,  2.98617357,  0.06476885],\n",
       "       [ 7.25230299,  2.97658466, -0.0234137 ],\n",
       "       [ 7.35792128,  3.07674347, -0.04694744],\n",
       "       ...,\n",
       "       [13.45341076, 10.565378  ,  0.76652527],\n",
       "       [13.08032186, 10.39693302,  0.6880198 ],\n",
       "       [13.33577341, 10.4504718 ,  0.55683493]])"
      ]
     },
     "execution_count": 9,
     "metadata": {},
     "output_type": "execute_result"
    }
   ],
   "source": [
    "# Simulation of an anomaly in v12 state\n",
    "system.simulate(cycle_list=[\n",
    "    [\"q1\", \"v12\", \"v23\", \"q1\", \"v12\", \"v23\", \"v3\"],\n",
    "    [\"q1\", \"v12\", \"v23\", \"q1\", \"v12-faulty\", \"v23\", \"v3\"],\n",
    "    [\"q1\", \"v12\", \"v23\", \"q1\", \"v12\", \"v23\", \"v3\"]\n",
    "    ],\n",
    "    nb_of_cycles_list=[4, 3, 15],\n",
    "    sd_q=None, sd_kv=None, sd_dur=None, sd_white_noise=sd_noise,\n",
    "    periodic_inflow=False,\n",
    "    export_path=\"preprocessed_data/tank_simulation/v12_faulty_3cycles.csv\"\n",
    ")"
   ]
  },
  {
   "cell_type": "code",
   "execution_count": 10,
   "metadata": {},
   "outputs": [
    {
     "name": "stderr",
     "output_type": "stream",
     "text": [
      "100%|██████████| 140/140 [00:07<00:00, 17.59it/s]\n"
     ]
    },
    {
     "data": {
      "text/plain": [
       "array([[ 7.04967142,  2.98617357,  0.06476885],\n",
       "       [ 7.25230299,  2.97658466, -0.0234137 ],\n",
       "       [ 7.35792128,  3.07674347, -0.04694744],\n",
       "       ...,\n",
       "       [13.29385432, 10.43353636,  0.83346009],\n",
       "       [13.25989115, 10.35178551,  0.82546332],\n",
       "       [13.45140526, 10.4167104 ,  0.37581695]])"
      ]
     },
     "execution_count": 10,
     "metadata": {},
     "output_type": "execute_result"
    }
   ],
   "source": [
    "# Simulation of an anomaly in v23 state\n",
    "system.simulate(cycle_list=[\n",
    "    [\"q1\", \"v12\", \"v23\", \"q1\", \"v12\", \"v23\", \"v3\"],\n",
    "    [\"q1\", \"v12\", \"v23\", \"q1\", \"v12\", \"v23-faulty\", \"v3\"],\n",
    "    [\"q1\", \"v12\", \"v23\", \"q1\", \"v12\", \"v23\", \"v3\"]\n",
    "    ],\n",
    "    nb_of_cycles_list=[4, 1, 15],\n",
    "    sd_q=None, sd_kv=None, sd_dur=None, sd_white_noise=sd_noise,\n",
    "    periodic_inflow=False,\n",
    "    export_path=\"preprocessed_data/tank_simulation/v23_faulty.csv\"\n",
    ")"
   ]
  },
  {
   "cell_type": "code",
   "execution_count": 11,
   "metadata": {},
   "outputs": [
    {
     "name": "stderr",
     "output_type": "stream",
     "text": [
      "100%|██████████| 154/154 [00:06<00:00, 22.26it/s]\n"
     ]
    },
    {
     "data": {
      "text/plain": [
       "array([[ 7.04967142,  2.98617357,  0.06476885],\n",
       "       [ 7.25230299,  2.97658466, -0.0234137 ],\n",
       "       [ 7.35792128,  3.07674347, -0.04694744],\n",
       "       ...,\n",
       "       [13.46693061, 10.577276  ,  0.76976263],\n",
       "       [13.09384171, 10.40883102,  0.69107289],\n",
       "       [13.34929326, 10.4623698 ,  0.55970376]])"
      ]
     },
     "execution_count": 11,
     "metadata": {},
     "output_type": "execute_result"
    }
   ],
   "source": [
    "# Simulation of an anomaly in v23 state\n",
    "system.simulate(cycle_list=[\n",
    "    [\"q1\", \"v12\", \"v23\", \"q1\", \"v12\", \"v23\", \"v3\"],\n",
    "    [\"q1\", \"v12\", \"v23\", \"q1\", \"v12\", \"v23-faulty\", \"v3\"],\n",
    "    [\"q1\", \"v12\", \"v23\", \"q1\", \"v12\", \"v23\", \"v3\"]\n",
    "    ],\n",
    "    nb_of_cycles_list=[4, 3, 15],\n",
    "    sd_q=None, sd_kv=None, sd_dur=None, sd_white_noise=sd_noise,\n",
    "    periodic_inflow=False,\n",
    "    export_path=\"preprocessed_data/tank_simulation/v23_faulty_3cycles.csv\"\n",
    ")"
   ]
  },
  {
   "cell_type": "code",
   "execution_count": 12,
   "metadata": {},
   "outputs": [
    {
     "name": "stderr",
     "output_type": "stream",
     "text": [
      "100%|██████████| 140/140 [00:07<00:00, 17.63it/s]\n"
     ]
    },
    {
     "data": {
      "text/plain": [
       "array([[ 7.04967142,  2.98617357,  0.06476885],\n",
       "       [ 7.25230299,  2.97658466, -0.0234137 ],\n",
       "       [ 7.35792128,  3.07674347, -0.04694744],\n",
       "       ...,\n",
       "       [13.29553734, 10.43501705,  0.83386162],\n",
       "       [13.26157416, 10.3532662 ,  0.82584188],\n",
       "       [13.45308827, 10.41819109,  0.37617256]])"
      ]
     },
     "execution_count": 12,
     "metadata": {},
     "output_type": "execute_result"
    }
   ],
   "source": [
    "# Simulation of an anomaly in v3 state\n",
    "system.simulate(cycle_list=[\n",
    "    [\"q1\", \"v12\", \"v23\", \"q1\", \"v12\", \"v23\", \"v3\"],\n",
    "    [\"q1\", \"v12\", \"v23\", \"q1\", \"v12\", \"v23\", \"v3-faulty\"],\n",
    "    [\"q1\", \"v12\", \"v23\", \"q1\", \"v12\", \"v23\", \"v3\"]\n",
    "    ],\n",
    "    nb_of_cycles_list=[4, 1, 15],\n",
    "    sd_q=None, sd_kv=None, sd_dur=None, sd_white_noise=sd_noise,\n",
    "    periodic_inflow=False,\n",
    "    export_path=\"preprocessed_data/tank_simulation/v3_faulty.csv\"\n",
    ")"
   ]
  },
  {
   "cell_type": "code",
   "execution_count": 13,
   "metadata": {},
   "outputs": [
    {
     "name": "stderr",
     "output_type": "stream",
     "text": [
      "100%|██████████| 154/154 [00:07<00:00, 20.52it/s]\n"
     ]
    },
    {
     "data": {
      "text/plain": [
       "array([[ 7.04967142,  2.98617357,  0.06476885],\n",
       "       [ 7.25230299,  2.97658466, -0.0234137 ],\n",
       "       [ 7.35792128,  3.07674347, -0.04694744],\n",
       "       ...,\n",
       "       [13.4806755 , 10.58937338,  0.77305932],\n",
       "       [13.1075866 , 10.4209284 ,  0.69418233],\n",
       "       [13.36303816, 10.47446718,  0.56262595]])"
      ]
     },
     "execution_count": 13,
     "metadata": {},
     "output_type": "execute_result"
    }
   ],
   "source": [
    "# Simulation of an anomaly in v3 state\n",
    "system.simulate(cycle_list=[\n",
    "    [\"q1\", \"v12\", \"v23\", \"q1\", \"v12\", \"v23\", \"v3\"],\n",
    "    [\"q1\", \"v12\", \"v23\", \"q1\", \"v12\", \"v23\", \"v3-faulty\"],\n",
    "    [\"q1\", \"v12\", \"v23\", \"q1\", \"v12\", \"v23\", \"v3\"]\n",
    "    ],\n",
    "    nb_of_cycles_list=[4, 3, 15],\n",
    "    sd_q=None, sd_kv=None, sd_dur=None, sd_white_noise=sd_noise,\n",
    "    periodic_inflow=False,\n",
    "    export_path=\"preprocessed_data/tank_simulation/v3_faulty_3cycles.csv\"\n",
    ")"
   ]
  }
 ],
 "metadata": {
  "kernelspec": {
   "display_name": "Python 3",
   "language": "python",
   "name": "python3"
  },
  "language_info": {
   "codemirror_mode": {
    "name": "ipython",
    "version": 3
   },
   "file_extension": ".py",
   "mimetype": "text/x-python",
   "name": "python",
   "nbconvert_exporter": "python",
   "pygments_lexer": "ipython3",
   "version": "3.11.8"
  },
  "orig_nbformat": 4
 },
 "nbformat": 4,
 "nbformat_minor": 2
}
